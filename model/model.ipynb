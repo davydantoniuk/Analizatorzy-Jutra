{
 "cells": [
  {
   "cell_type": "code",
   "execution_count": 2,
   "metadata": {},
   "outputs": [
    {
     "name": "stderr",
     "output_type": "stream",
     "text": [
      "C:\\Users\\davyd\\AppData\\Local\\Temp\\ipykernel_18444\\2124280936.py:13: UserWarning: Could not infer format, so each element will be parsed individually, falling back to `dateutil`. To ensure parsing is consistent and as-expected, please specify a format.\n",
      "  df['saledate'] = pd.to_datetime(df['saledate'], errors='coerce', utc=True)\n"
     ]
    },
    {
     "name": "stdout",
     "output_type": "stream",
     "text": [
      "(472325, 14) Index(['model', 'month', 'sales_count', 'year', 'make', 'body', 'transmission',\n",
      "       'state', 'condition', 'odometer', 'color', 'interior', 'seller',\n",
      "       'sellingprice'],\n",
      "      dtype='object')\n"
     ]
    }
   ],
   "source": [
    "import pandas as pd\n",
    "import seaborn as sns\n",
    "import matplotlib.pyplot as plt\n",
    "import numpy as np\n",
    "from sklearn.metrics import mean_squared_error, r2_score\n",
    "from sklearn.model_selection import train_test_split\n",
    "from sklearn.preprocessing import StandardScaler\n",
    "from sklearn.preprocessing import OneHotEncoder\n",
    "\n",
    "\n",
    "df = pd.read_csv(\"../car_prices.csv\")\n",
    "\n",
    "df['saledate'] = pd.to_datetime(df['saledate'], errors='coerce', utc=True)\n",
    "df['month'] = df['saledate'].dt.month\n",
    "sales_data = df.groupby(['model', 'month']).agg({'sellingprice': 'count'}).reset_index()\n",
    "sales_data.rename(columns={'sellingprice': 'sales_count'}, inplace=True)\n",
    "df = pd.merge(sales_data, df, on=['model', 'month'], how='left')\n",
    "\n",
    "df = df.drop([\"vin\", \"mmr\", \"saledate\", \"trim\"], axis = 1)\n",
    "\n",
    "num = df.select_dtypes(include=[np.float64, np.int64]).columns.tolist()\n",
    "categ = [col for col in df.columns if col not in num]\n",
    "\n",
    "df = df.dropna()\n",
    "\n",
    "print(df.shape, df.columns)\n",
    "\n",
    "X = df.drop(['sales_count', \"model\", \"month\"], axis=1)\n",
    "y = df['sales_count']\n",
    "num.remove(\"sales_count\")\n",
    "categ.remove(\"model\")\n",
    "num.remove(\"month\")\n",
    "\n",
    "X_train, X_test, y_train, y_test = train_test_split(X, y, test_size=0.05, random_state=42)\n",
    "\n",
    "X_train = pd.get_dummies(X_train, columns=categ, drop_first=True)\n",
    "X_test = pd.get_dummies(X_test, columns=categ, drop_first=True)\n",
    "X_test = X_test.reindex(columns=X_train.columns, fill_value=0)\n",
    "\n",
    "scaler = StandardScaler()\n",
    "X_train[num] = pd.DataFrame(scaler.fit_transform(X_train[num]), index=X_train.index, columns=num)\n",
    "X_test[num] = pd.DataFrame(scaler.transform(X_test[num]), index=X_test.index, columns=num)"
   ]
  },
  {
   "cell_type": "code",
   "execution_count": 6,
   "metadata": {},
   "outputs": [
    {
     "name": "stdout",
     "output_type": "stream",
     "text": [
      "Epoch 1/10\n",
      "\u001b[1m14023/14023\u001b[0m \u001b[32m━━━━━━━━━━━━━━━━━━━━\u001b[0m\u001b[37m\u001b[0m \u001b[1m158s\u001b[0m 11ms/step - loss: 801486.9375\n",
      "Epoch 2/10\n",
      "\u001b[1m14023/14023\u001b[0m \u001b[32m━━━━━━━━━━━━━━━━━━━━\u001b[0m\u001b[37m\u001b[0m \u001b[1m153s\u001b[0m 11ms/step - loss: 613546.8125\n",
      "Epoch 3/10\n",
      "\u001b[1m14023/14023\u001b[0m \u001b[32m━━━━━━━━━━━━━━━━━━━━\u001b[0m\u001b[37m\u001b[0m \u001b[1m154s\u001b[0m 11ms/step - loss: 569576.6875\n",
      "Epoch 4/10\n",
      "\u001b[1m14023/14023\u001b[0m \u001b[32m━━━━━━━━━━━━━━━━━━━━\u001b[0m\u001b[37m\u001b[0m \u001b[1m153s\u001b[0m 11ms/step - loss: 547166.1875\n",
      "Epoch 5/10\n",
      "\u001b[1m14023/14023\u001b[0m \u001b[32m━━━━━━━━━━━━━━━━━━━━\u001b[0m\u001b[37m\u001b[0m \u001b[1m154s\u001b[0m 11ms/step - loss: 531800.8125\n",
      "Epoch 6/10\n",
      "\u001b[1m14023/14023\u001b[0m \u001b[32m━━━━━━━━━━━━━━━━━━━━\u001b[0m\u001b[37m\u001b[0m \u001b[1m148s\u001b[0m 11ms/step - loss: 517671.1875\n",
      "Epoch 7/10\n",
      "\u001b[1m14023/14023\u001b[0m \u001b[32m━━━━━━━━━━━━━━━━━━━━\u001b[0m\u001b[37m\u001b[0m \u001b[1m151s\u001b[0m 11ms/step - loss: 512270.1250\n",
      "Epoch 8/10\n",
      "\u001b[1m14023/14023\u001b[0m \u001b[32m━━━━━━━━━━━━━━━━━━━━\u001b[0m\u001b[37m\u001b[0m \u001b[1m162s\u001b[0m 12ms/step - loss: 510800.0312\n",
      "Epoch 9/10\n",
      "\u001b[1m14023/14023\u001b[0m \u001b[32m━━━━━━━━━━━━━━━━━━━━\u001b[0m\u001b[37m\u001b[0m \u001b[1m149s\u001b[0m 11ms/step - loss: 501390.4688\n",
      "Epoch 10/10\n",
      "\u001b[1m14023/14023\u001b[0m \u001b[32m━━━━━━━━━━━━━━━━━━━━\u001b[0m\u001b[37m\u001b[0m \u001b[1m154s\u001b[0m 11ms/step - loss: 498971.0625\n"
     ]
    },
    {
     "data": {
      "text/plain": [
       "<keras.src.callbacks.history.History at 0x21390fe2210>"
      ]
     },
     "execution_count": 6,
     "metadata": {},
     "output_type": "execute_result"
    }
   ],
   "source": [
    "from keras.layers import Dropout\n",
    "from keras.regularizers import l2\n",
    "\n",
    "model_nn = Sequential([\n",
    "    InputLayer((X_train.shape[1],)),\n",
    "    Dense(128, activation=\"relu\", kernel_regularizer=l2(0.001)),\n",
    "    Dropout(0.3),\n",
    "    Dense(64, activation=\"relu\", kernel_regularizer=l2(0.001)),\n",
    "    Dropout(0.3),\n",
    "    Dense(32, activation=\"relu\"),\n",
    "    Dense(16, activation=\"relu\"),\n",
    "    Dense(1)\n",
    "])\n",
    "\n",
    "model_nn.compile(optimizer=Adam(learning_rate = 0.001), loss='mean_squared_error')\n",
    "model_nn.fit(X_train, y_train, epochs=10, batch_size=32)"
   ]
  },
  {
   "cell_type": "code",
   "execution_count": 7,
   "metadata": {},
   "outputs": [
    {
     "name": "stdout",
     "output_type": "stream",
     "text": [
      "\u001b[1m739/739\u001b[0m \u001b[32m━━━━━━━━━━━━━━━━━━━━\u001b[0m\u001b[37m\u001b[0m \u001b[1m1s\u001b[0m 2ms/step\n",
      "\u001b[1m14023/14023\u001b[0m \u001b[32m━━━━━━━━━━━━━━━━━━━━\u001b[0m\u001b[37m\u001b[0m \u001b[1m29s\u001b[0m 2ms/step\n",
      "0.6427 705\n",
      "0.6712 671\n"
     ]
    }
   ],
   "source": [
    "y_pred = model_nn.predict(X_test)\n",
    "y_pred_train = model_nn.predict(X_train)\n",
    "\n",
    "r2_val = round(r2_score(y_test, y_pred), 4)\n",
    "rmse_val = round(np.sqrt(mean_squared_error(y_test, y_pred)))\n",
    "\n",
    "r2_train = round(r2_score(y_train, y_pred_train), 4)\n",
    "rmse_train = round(np.sqrt(mean_squared_error(y_train, y_pred_train)))\n",
    "\n",
    "print(r2_val, rmse_val)\n",
    "print(r2_train, rmse_train)"
   ]
  },
  {
   "cell_type": "code",
   "execution_count": 8,
   "metadata": {},
   "outputs": [],
   "source": [
    "model_nn.save('model1.keras')"
   ]
  },
  {
   "cell_type": "code",
   "execution_count": 1,
   "metadata": {},
   "outputs": [
    {
     "name": "stdout",
     "output_type": "stream",
     "text": [
      "Note: you may need to restart the kernel to use updated packages.\n"
     ]
    },
    {
     "name": "stderr",
     "output_type": "stream",
     "text": [
      "ERROR: Could not find a version that satisfies the requirement modeling (from versions: none)\n",
      "ERROR: No matching distribution found for modeling\n"
     ]
    }
   ],
   "source": [
    "pip install modeling"
   ]
  }
 ],
 "metadata": {
  "kernelspec": {
   "display_name": "base",
   "language": "python",
   "name": "python3"
  },
  "language_info": {
   "codemirror_mode": {
    "name": "ipython",
    "version": 3
   },
   "file_extension": ".py",
   "mimetype": "text/x-python",
   "name": "python",
   "nbconvert_exporter": "python",
   "pygments_lexer": "ipython3",
   "version": "3.11.5"
  }
 },
 "nbformat": 4,
 "nbformat_minor": 2
}
