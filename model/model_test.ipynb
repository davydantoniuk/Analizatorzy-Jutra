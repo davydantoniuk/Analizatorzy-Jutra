{
 "cells": [
  {
   "cell_type": "code",
   "execution_count": 2,
   "metadata": {},
   "outputs": [
    {
     "name": "stderr",
     "output_type": "stream",
     "text": [
      "C:\\Users\\davyd\\AppData\\Local\\Temp\\ipykernel_18444\\2124280936.py:13: UserWarning: Could not infer format, so each element will be parsed individually, falling back to `dateutil`. To ensure parsing is consistent and as-expected, please specify a format.\n",
      "  df['saledate'] = pd.to_datetime(df['saledate'], errors='coerce', utc=True)\n"
     ]
    },
    {
     "name": "stdout",
     "output_type": "stream",
     "text": [
      "(472325, 14) Index(['model', 'month', 'sales_count', 'year', 'make', 'body', 'transmission',\n",
      "       'state', 'condition', 'odometer', 'color', 'interior', 'seller',\n",
      "       'sellingprice'],\n",
      "      dtype='object')\n"
     ]
    }
   ],
   "source": [
    "import pandas as pd\n",
    "import seaborn as sns\n",
    "import matplotlib.pyplot as plt\n",
    "import numpy as np\n",
    "from sklearn.metrics import mean_squared_error, r2_score\n",
    "from sklearn.model_selection import train_test_split\n",
    "from sklearn.preprocessing import StandardScaler\n",
    "from sklearn.preprocessing import OneHotEncoder\n",
    "\n",
    "\n",
    "df = pd.read_csv(\"../car_prices.csv\")\n",
    "\n",
    "df['saledate'] = pd.to_datetime(df['saledate'], errors='coerce', utc=True)\n",
    "df['month'] = df['saledate'].dt.month\n",
    "sales_data = df.groupby(['model', 'month']).agg({'sellingprice': 'count'}).reset_index()\n",
    "sales_data.rename(columns={'sellingprice': 'sales_count'}, inplace=True)\n",
    "df = pd.merge(sales_data, df, on=['model', 'month'], how='left')\n",
    "\n",
    "df = df.drop([\"vin\", \"mmr\", \"saledate\", \"trim\"], axis = 1)\n",
    "\n",
    "num = df.select_dtypes(include=[np.float64, np.int64]).columns.tolist()\n",
    "categ = [col for col in df.columns if col not in num]\n",
    "\n",
    "df = df.dropna()\n",
    "\n",
    "print(df.shape, df.columns)\n",
    "\n",
    "X = df.drop(['sales_count', \"model\", \"month\"], axis=1)\n",
    "y = df['sales_count']\n",
    "num.remove(\"sales_count\")\n",
    "categ.remove(\"model\")\n",
    "num.remove(\"month\")\n",
    "\n",
    "X_train, X_test, y_train, y_test = train_test_split(X, y, test_size=0.05, random_state=42)\n",
    "\n",
    "X_train = pd.get_dummies(X_train, columns=categ, drop_first=True)\n",
    "X_test = pd.get_dummies(X_test, columns=categ, drop_first=True)\n",
    "X_test = X_test.reindex(columns=X_train.columns, fill_value=0)\n",
    "\n",
    "scaler = StandardScaler()\n",
    "X_train[num] = pd.DataFrame(scaler.fit_transform(X_train[num]), index=X_train.index, columns=num)\n",
    "X_test[num] = pd.DataFrame(scaler.transform(X_test[num]), index=X_test.index, columns=num)"
   ]
  },
  {
   "cell_type": "code",
   "execution_count": 3,
   "metadata": {},
   "outputs": [
    {
     "name": "stdout",
     "output_type": "stream",
     "text": [
      "Epoch 1/5\n",
      "\u001b[1m14023/14023\u001b[0m \u001b[32m━━━━━━━━━━━━━━━━━━━━\u001b[0m\u001b[37m\u001b[0m \u001b[1m62s\u001b[0m 4ms/step - loss: 844799.2500\n",
      "Epoch 2/5\n",
      "\u001b[1m14023/14023\u001b[0m \u001b[32m━━━━━━━━━━━━━━━━━━━━\u001b[0m\u001b[37m\u001b[0m \u001b[1m55s\u001b[0m 4ms/step - loss: 590133.0625\n",
      "Epoch 3/5\n",
      "\u001b[1m14023/14023\u001b[0m \u001b[32m━━━━━━━━━━━━━━━━━━━━\u001b[0m\u001b[37m\u001b[0m \u001b[1m58s\u001b[0m 4ms/step - loss: 543784.6875\n",
      "Epoch 4/5\n",
      "\u001b[1m14023/14023\u001b[0m \u001b[32m━━━━━━━━━━━━━━━━━━━━\u001b[0m\u001b[37m\u001b[0m \u001b[1m58s\u001b[0m 4ms/step - loss: 516670.4375\n",
      "Epoch 5/5\n",
      "\u001b[1m14023/14023\u001b[0m \u001b[32m━━━━━━━━━━━━━━━━━━━━\u001b[0m\u001b[37m\u001b[0m \u001b[1m59s\u001b[0m 4ms/step - loss: 497917.6250\n",
      "\u001b[1m739/739\u001b[0m \u001b[32m━━━━━━━━━━━━━━━━━━━━\u001b[0m\u001b[37m\u001b[0m \u001b[1m1s\u001b[0m 1ms/step\n",
      "\u001b[1m14023/14023\u001b[0m \u001b[32m━━━━━━━━━━━━━━━━━━━━\u001b[0m\u001b[37m\u001b[0m \u001b[1m22s\u001b[0m 2ms/step\n",
      "0.6299 717\n",
      "0.6452 697\n"
     ]
    }
   ],
   "source": [
    "from keras.layers import InputLayer, Dense\n",
    "from keras.models import Sequential\n",
    "from keras.optimizers import Adam\n",
    "\n",
    "\n",
    "model_nn = Sequential([\n",
    "    InputLayer((X_train.shape[1],)),\n",
    "    Dense(64, \"relu\"),\n",
    "    Dense(32, \"relu\"),\n",
    "    Dense(16, \"relu\"),\n",
    "    Dense(1)\n",
    "])\n",
    "\n",
    "model_nn.compile(optimizer=Adam(learning_rate = 0.001), loss='mean_squared_error')\n",
    "model_nn.fit(X_train, y_train, epochs=5, batch_size=32)\n",
    "\n",
    "y_pred = model_nn.predict(X_test)\n",
    "y_pred_train = model_nn.predict(X_train)\n",
    "\n",
    "r2_val = round(r2_score(y_test, y_pred), 4)\n",
    "rmse_val = round(np.sqrt(mean_squared_error(y_test, y_pred)))\n",
    "\n",
    "r2_train = round(r2_score(y_train, y_pred_train), 4)\n",
    "rmse_train = round(np.sqrt(mean_squared_error(y_train, y_pred_train)))\n",
    "\n",
    "print(r2_val, rmse_val)\n",
    "print(r2_train, rmse_train)"
   ]
  },
  {
   "cell_type": "code",
   "execution_count": 4,
   "metadata": {},
   "outputs": [],
   "source": [
    "model_nn.save('model.keras')"
   ]
  }
 ],
 "metadata": {
  "kernelspec": {
   "display_name": "base",
   "language": "python",
   "name": "python3"
  },
  "language_info": {
   "codemirror_mode": {
    "name": "ipython",
    "version": 3
   },
   "file_extension": ".py",
   "mimetype": "text/x-python",
   "name": "python",
   "nbconvert_exporter": "python",
   "pygments_lexer": "ipython3",
   "version": "3.11.5"
  }
 },
 "nbformat": 4,
 "nbformat_minor": 2
}
